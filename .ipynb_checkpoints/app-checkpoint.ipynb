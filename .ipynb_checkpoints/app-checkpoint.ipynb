{
 "cells": [
  {
   "cell_type": "code",
   "execution_count": 13,
   "id": "2e349732-ff1f-49d9-8f56-3d1e6da61941",
   "metadata": {},
   "outputs": [
    {
     "name": "stdout",
     "output_type": "stream",
     "text": [
      " * Serving Flask app '__main__'\n",
      " * Debug mode: off\n"
     ]
    },
    {
     "name": "stderr",
     "output_type": "stream",
     "text": [
      "WARNING: This is a development server. Do not use it in a production deployment. Use a production WSGI server instead.\n",
      " * Running on all addresses (0.0.0.0)\n",
      " * Running on http://127.0.0.1:5000\n",
      " * Running on http://14.49.91.231:5000\n",
      "Press CTRL+C to quit\n",
      "127.0.0.1 - - [26/Nov/2024 22:25:46] \"POST /predict HTTP/1.1\" 200 -\n"
     ]
    }
   ],
   "source": [
    "from flask import Flask, request, Response\n",
    "import os\n",
    "import inference\n",
    "import json\n",
    "\n",
    "app = Flask(__name__)\n",
    "\n",
    "def np_encoder(object):\n",
    "    if isinstance(object, np.generic):\n",
    "        return object.item()\n",
    "\n",
    "@app.route('/predict', methods=['POST'])\n",
    "def predict():\n",
    "    if 'file' not in request.files:\n",
    "        return jsonify({'error': 'No file uploaded'}), 400\n",
    "\n",
    "    file = request.files['file']\n",
    "\n",
    "    temp_dir = os.getenv(\"TEMP\", \"/tmp\")  # Temporary directory for saving uploaded files\n",
    "    file_path = os.path.join(temp_dir, file.filename)\n",
    "\n",
    "    try:\n",
    "        # Save the uploaded file temporarily\n",
    "        file.save(file_path)\n",
    "\n",
    "        # Call the inference method from the inference module\n",
    "        example_model_path = \"svm_model.pkl\"  # Update as needed\n",
    "        example_scaler_path = \"scaler.pkl\"   # Update as needed\n",
    "\n",
    "        # Perform inference\n",
    "        result = inference.inference(file_path, example_model_path, example_scaler_path)\n",
    "\n",
    "        # Return result as JSON\n",
    "        obj = {\n",
    "            \"result\": np.int64(result),\n",
    "        }\n",
    "        return json.dumps(obj, default=np_encoder)\n",
    "\n",
    "    except Exception as e:\n",
    "        return jsonify({'error': str(e)}), 500\n",
    "\n",
    "    finally:\n",
    "        # Clean up the file after processing\n",
    "        if os.path.exists(file_path):\n",
    "            os.remove(file_path)\n",
    "\n",
    "if __name__ == '__main__':\n",
    "    app.run(host='0.0.0.0', port=5000)"
   ]
  },
  {
   "cell_type": "code",
   "execution_count": null,
   "id": "96a4db5b-e8b5-4697-aecf-83c368cd0316",
   "metadata": {},
   "outputs": [],
   "source": []
  },
  {
   "cell_type": "code",
   "execution_count": null,
   "id": "99035b31-4d76-452c-bd7f-d1d27f5b7538",
   "metadata": {},
   "outputs": [],
   "source": []
  },
  {
   "cell_type": "code",
   "execution_count": null,
   "id": "3130fb55-c3cd-477b-a5c0-c49b646730c1",
   "metadata": {},
   "outputs": [],
   "source": []
  },
  {
   "cell_type": "code",
   "execution_count": null,
   "id": "4b7ba3ab-9fff-40b1-a558-3a0e1ac434a4",
   "metadata": {},
   "outputs": [],
   "source": []
  }
 ],
 "metadata": {
  "kernelspec": {
   "display_name": "Python 3 (ipykernel)",
   "language": "python",
   "name": "python3"
  },
  "language_info": {
   "codemirror_mode": {
    "name": "ipython",
    "version": 3
   },
   "file_extension": ".py",
   "mimetype": "text/x-python",
   "name": "python",
   "nbconvert_exporter": "python",
   "pygments_lexer": "ipython3",
   "version": "3.11.7"
  }
 },
 "nbformat": 4,
 "nbformat_minor": 5
}
